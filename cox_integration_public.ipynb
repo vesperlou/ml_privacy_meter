{
 "cells": [
  {
   "cell_type": "markdown",
   "id": "c834a086-d40d-4017-b96b-bc6689a13c06",
   "metadata": {},
   "source": [
    "# Cox Integration"
   ]
  },
  {
   "cell_type": "markdown",
   "id": "4b7273a7-1fd8-4478-ab29-3766b04caf4f",
   "metadata": {},
   "source": [
    "## README\n",
    "This is a working example of a simplified workflow to execute Privacy Meter's membership inference attack (MIA) against Cox Regression model.\n",
    "\n",
    "Simply execute all the code blocks one by one to get all results in sub-directory \"test_cox\". The results include models, model metadatas, memberships, attacks, and auditing result graphs.\n",
    "\n",
    "### TODO\n",
    "\n",
    "Replace the current function 'get_cox_model_signals' with another calculation method based on Cox model's available output per sample.\n",
    "\n",
    "Currently, 'get_cox_model_signals' computes signals of the Cox models by using partial_likelihood (model.predict_partial_hazard(data)). But it's just a placeholder and is not explainable from theory.\n",
    "\n",
    "The input of 'get_cox_model_signals' should be 'auditing dataset' and 'model list' (models). It can use any information/data the model OUTPUTs - just like a honest-but-curioius data scientist with access to internal prediction API. But it shouldn't use any model internal information, e.g. model parameters or structures.\n",
    "\n",
    "The output of 'get_cox_model_signals' is 'signals', which stands for the computed signal values for all data records in auditing dataset for each model. The format should be the same as the current output, variable 'signals'.\n",
    "\n",
    "The aim is to find a variable as signal. The variable should be sample-specific (each prediction should have one result), and should be explainable in theory why it differs for members and non-members (statistically or other ways).\n",
    "\n",
    "### Possible useful materials and documentations\n",
    "\n",
    "- Documentations:\n",
    "\n",
    "https://lifelines.readthedocs.io/en/latest/Survival%20Regression.html#model-probability-calibration\n",
    "\n",
    "https://lifelines.readthedocs.io/en/latest/jupyter_notebooks/Cox%20residuals.html#Deviance-residuals\n",
    "\n",
    "https://lifelines.readthedocs.io/en/latest/fitters/regression/CoxPHFitter.html\n",
    "\n",
    "- Papers:\n",
    "\n",
    "Enhanced Membership Inference Attacks against Machine Learning Models. The 'Attack P(opulation)' we used in this juupyter notebook.\n",
    "https://arxiv.org/pdf/2111.09679\n",
    "\n",
    "Low-Cost High-Power Membership Inference Attacks. Better attack 'RMIA' with 'softmax' calculation\n",
    "https://openreview.net/pdf?id=sT7UJh5CTc\n"
   ]
  },
  {
   "cell_type": "code",
   "execution_count": 1,
   "id": "f6c11000-8ff0-4e80-b41e-ba56ee08a73e",
   "metadata": {},
   "outputs": [],
   "source": [
    "import time\n",
    "import pickle\n",
    "import json\n",
    "from lifelines import CoxPHFitter\n",
    "import copy\n",
    "import os\n",
    "import torch\n",
    "\n",
    "## model auditing\n",
    "from pathlib import Path\n",
    "import numpy as np\n",
    "import torch.utils.data\n",
    "from sklearn.metrics import roc_curve, auc\n",
    "from torch.utils.data import Subset\n",
    "from attacks import tune_offline_a, run_rmia, run_loss\n",
    "from visualize import plot_roc, plot_roc_log\n",
    "\n",
    "## build model and dataset\n",
    "import pandas as pd\n",
    "from lifelines.datasets import load_rossi\n",
    "import matplotlib.pyplot as plt\n"
   ]
  },
  {
   "cell_type": "markdown",
   "id": "bf2c95ee-dd1f-4864-b031-dd83bd6eb0ab",
   "metadata": {},
   "source": [
    "## split dataset for training"
   ]
  },
  {
   "cell_type": "code",
   "execution_count": 2,
   "id": "e9d3380b-4ed0-4605-bcb1-0f14955a909c",
   "metadata": {},
   "outputs": [],
   "source": [
    "def split_dataframe_for_training(dataframe, num_model_pairs):\n",
    "    \"\"\"\n",
    "    Split a Pandas DataFrame into training and test partitions for model pairs.\n",
    "\n",
    "    Args:\n",
    "        dataframe (pd.DataFrame): Input dataset as a Pandas DataFrame.\n",
    "        num_model_pairs (int): Number of model pairs to be trained, with each pair trained on different halves of the dataset.\n",
    "\n",
    "    Returns:\n",
    "        data_splits (list): List of dictionaries containing training and test DataFrames for each model.\n",
    "        master_keep (np.array): Boolean array indicating the membership of samples in each model's training set.\n",
    "    \"\"\"\n",
    "    dataset_size = len(dataframe)\n",
    "    indices = np.arange(dataset_size)\n",
    "    split_index = dataset_size // 2\n",
    "    master_keep = np.full((2 * num_model_pairs, dataset_size), True, dtype=bool)\n",
    "    data_splits = []\n",
    "\n",
    "    for i in range(num_model_pairs):\n",
    "        # Shuffle indices to randomize the dataset\n",
    "        np.random.shuffle(indices)\n",
    "        \n",
    "        # Update master_keep for training and testing sets\n",
    "        master_keep[i * 2, indices[split_index:]] = False\n",
    "        master_keep[i * 2 + 1, indices[:split_index]] = False\n",
    "        \n",
    "        # Generate train and test indices\n",
    "        train_indices_1 = np.where(master_keep[i * 2, :])[0]\n",
    "        test_indices_1 = np.where(~master_keep[i * 2, :])[0]\n",
    "\n",
    "        train_indices_2 = np.where(master_keep[i * 2 + 1, :])[0]\n",
    "        test_indices_2 = np.where(~master_keep[i * 2 + 1, :])[0]\n",
    "        \n",
    "        # Append training and testing DataFrames for both models in the pair\n",
    "        data_splits.append(\n",
    "            {\n",
    "                \"train\": dataframe.iloc[train_indices_1],\n",
    "                \"test\": dataframe.iloc[test_indices_1],\n",
    "            }\n",
    "        )\n",
    "        data_splits.append(\n",
    "            {\n",
    "                \"train\": dataframe.iloc[train_indices_2],\n",
    "                \"test\": dataframe.iloc[test_indices_2],\n",
    "            }\n",
    "        )\n",
    "\n",
    "    return data_splits, master_keep"
   ]
  },
  {
   "cell_type": "markdown",
   "id": "fbc145d9-36fd-4353-9d76-17985d72da68",
   "metadata": {},
   "source": [
    "## train cox models using the splitted dataset"
   ]
  },
  {
   "cell_type": "code",
   "execution_count": 3,
   "id": "55a47ee6-ec20-4be5-a4c6-7f65df5670c7",
   "metadata": {},
   "outputs": [],
   "source": [
    "def train_cox_models(data_splits, num_model_pairs, log_dir):\n",
    "    \"\"\"\n",
    "    Train Cox proportional hazards models using data splits and store metadata.\n",
    "\n",
    "    Args:\n",
    "        data_splits (list): List of dictionaries containing \"train\" and \"test\" DataFrames.\n",
    "        num_model_pairs (int): Number of model pairs to train.\n",
    "        log_dir (str): Directory to store models and metadata.\n",
    "        logger (logging.Logger): Logger for logging information.\n",
    "        dataset_name (str): Name of the dataset used for training.\n",
    "\n",
    "    Returns:\n",
    "        list: List of trained CoxPHFitter models.\n",
    "    \"\"\"\n",
    "    os.makedirs(log_dir, exist_ok=True)  # Ensure log directory exists\n",
    "    model_list = []\n",
    "    model_metadata_dict = {}\n",
    "\n",
    "    for split_idx, split_info in enumerate(data_splits):\n",
    "        #logger.info(f\"Training model {split_idx}...\")\n",
    "\n",
    "        # Extract train and test sets\n",
    "        train_data = split_info[\"train\"]\n",
    "        test_data = split_info[\"test\"]\n",
    "\n",
    "        # Initialize the CoxPH model\n",
    "        model = CoxPHFitter()\n",
    "        baseline_time = time.time()\n",
    "\n",
    "        # Train the Cox model\n",
    "        model.fit(train_data, duration_col=\"week\", event_col=\"arrest\")\n",
    "\n",
    "        # Evaluate the model\n",
    "        train_score = model.score(train_data, scoring_method=\"concordance_index\")\n",
    "        test_score = model.score(test_data, scoring_method=\"concordance_index\")\n",
    "\n",
    "        #train_loss = model.log_likelihood_ratio_\n",
    "        #test_loss = model.compute_residuals(test_data, \"martingale\").abs().mean()\n",
    "\n",
    "       # logger.info(\n",
    "       #     \"Training model %s took %.2f seconds\", split_idx, time.time() - baseline_time\n",
    "       # )\n",
    "\n",
    "        # Store the trained model\n",
    "        model_list.append(copy.deepcopy(model))\n",
    "\n",
    "        model_idx = split_idx\n",
    "\n",
    "        with open(f\"{log_dir}/model_{model_idx}.pkl\", \"wb\") as f:\n",
    "            pickle.dump(model, f)\n",
    "\n",
    "        # Store metadata\n",
    "        model_metadata_dict[model_idx] = {\n",
    "            \"model_name\": \"CoxPHFitter\",\n",
    "            \"num_train\": len(train_data),\n",
    "            \"num_test\": len(test_data),\n",
    "            \"train_acc\": train_score,\n",
    "            \"test_acc\": test_score,\n",
    "            #\"train_loss\": train_loss,\n",
    "            #\"test_loss\": test_loss,\n",
    "            #\"dataset\": dataset_name,\n",
    "            \"model_path\": f\"{log_dir}/cox_model_{model_idx}.pkl\",\n",
    "        }\n",
    "\n",
    "    # Save all metadata as a JSON file\n",
    "    with open(f\"{log_dir}/cox_models_metadata.json\", \"w\") as f:\n",
    "        json.dump(model_metadata_dict, f, indent=4)\n",
    "\n",
    "    return model_list, model_metadata_dict\n"
   ]
  },
  {
   "cell_type": "markdown",
   "id": "fc805f9b-cf39-438f-a197-2b720222d6e9",
   "metadata": {},
   "source": [
    "## prepare auditing dataset and memberships"
   ]
  },
  {
   "cell_type": "code",
   "execution_count": 4,
   "id": "a869e9ec-1b70-4ddc-a171-c5fa9e72a5ec",
   "metadata": {},
   "outputs": [],
   "source": [
    "# if no downsamples specified, use original dataset and memberships\n",
    "\n",
    "def sample_cox_auditing_dataset(dataset, memberships):\n",
    "    return dataset, memberships\n",
    "#auditing_dataset = dataset\n",
    "#auditing_membership = memberships"
   ]
  },
  {
   "cell_type": "markdown",
   "id": "4ec083f5-66f9-4063-818f-28538b843c6a",
   "metadata": {},
   "source": [
    "## compute pseudo ground truth - NOT USED"
   ]
  },
  {
   "cell_type": "code",
   "execution_count": 5,
   "id": "f87d63e5-073b-4509-b433-609940af7e36",
   "metadata": {},
   "outputs": [],
   "source": [
    "# based on median survival prediction\n",
    "def define_cox_pseudo_ground_truth(data):\n",
    "    pseudo_ground_truth = []\n",
    "    for i in range(len(data)):\n",
    "        if data['arrest'][i] == 1:\n",
    "            pseudo_ground_truth.append(data['week'][i])\n",
    "        else:\n",
    "            pseudo_ground_truth.append(float('inf'))\n",
    "    return torch.tensor(pseudo_ground_truth, dtype=torch.float64)"
   ]
  },
  {
   "cell_type": "markdown",
   "id": "3d8a3311-2335-40da-bd6a-de4c7b23cb25",
   "metadata": {},
   "source": [
    "## compute model signals\n",
    "- Use \"partial likelihood per sample\" to generate pseudo \"loss\" values. use get_loss function to compute signals and do attacks.\n",
    "\n",
    "- Function: \n",
    "\n",
    "def cox_partial_likelihood_per_sample(predicted_risks, true_events, true_times)\n",
    "\n",
    "- Explaination:\n",
    "\n",
    "  \"\"\"\n",
    "  Calculates the Cox partial likelihood loss for each sample.\n",
    "\n",
    "  Args:\n",
    "      predicted_risks (torch.Tensor): Predicted risks from the Cox model.\n",
    "  \n",
    "      true_events (torch.Tensor): Indicator vector for events (1 for event, 0 for censored).\n",
    "  \n",
    "      true_times (torch.Tensor): Survival times for each sample.\n",
    "\n",
    "  Returns:\n",
    "      torch.Tensor: A tensor containing the loss for each sample.\n",
    "  \"\"\""
   ]
  },
  {
   "cell_type": "code",
   "execution_count": 6,
   "id": "0a2df84e-3dd4-4034-b471-cefc0ddf70c8",
   "metadata": {},
   "outputs": [],
   "source": [
    "def cox_partial_likelihood_per_sample(predicted_risks, true_events, true_times):\n",
    "  \"\"\"\n",
    "  Calculates the Cox partial likelihood loss for each sample.\n",
    "\n",
    "  Args:\n",
    "      predicted_risks (torch.Tensor): Predicted risks from the Cox model.\n",
    "      true_events (torch.Tensor): Indicator vector for events (1 for event, 0 for censored).\n",
    "      true_times (torch.Tensor): Survival times for each sample.\n",
    "\n",
    "  Returns:\n",
    "      torch.Tensor: A tensor containing the loss for each sample.\n",
    "  \"\"\"\n",
    "  n = len(predicted_risks)\n",
    "  sample_losses = np.zeros(n) \n",
    "\n",
    "  for i in range(n):\n",
    "    if true_events[i] == 1:\n",
    "      risk_ratio = torch.exp(predicted_risks[i])\n",
    "      sum_risk_ratio = 0.0\n",
    "      for j in range(n):\n",
    "        if j != i and true_times[j] >= true_times[i]:\n",
    "          sum_risk_ratio += torch.exp(predicted_risks[j])\n",
    "      sample_losses[i] = -torch.log(risk_ratio / sum_risk_ratio)\n",
    "\n",
    "  #result = np.concatenate(sample_losses).reshape((-1, 1))\n",
    "  sample_losses = sample_losses.reshape(-1, 1)\n",
    "  return sample_losses\n"
   ]
  },
  {
   "cell_type": "code",
   "execution_count": 7,
   "id": "b39a3938-ba69-4462-a879-a2f3fe38f260",
   "metadata": {},
   "outputs": [],
   "source": [
    "## get model signals ## TODO!!!!\n",
    "\n",
    "def get_cox_model_signals(model_list, data, log_dir=\"test_cox\"):\n",
    "    signals = []\n",
    "    \n",
    "    for model in model_list:\n",
    "        predicted_risks = torch.tensor(model.predict_partial_hazard(data).values) \n",
    "        true_events = torch.tensor(data['arrest'].values)\n",
    "        true_times = torch.tensor(data['week'].values)\n",
    "        signals.append(\n",
    "            cox_partial_likelihood_per_sample(predicted_risks, true_events, true_times)\n",
    "        )\n",
    "        \n",
    "    signals = np.concatenate(signals, axis = 1)\n",
    "    np.save(\n",
    "        f\"{log_dir}/cox_partial_likelihood_per_sample_signals.npy\",\n",
    "        signals,\n",
    "    )\n",
    "    print(\"Signals saved to disk.\")\n",
    "    return signals\n"
   ]
  },
  {
   "cell_type": "markdown",
   "id": "312c59d3-f9f9-495c-bdc4-f6ec2a592ba7",
   "metadata": {},
   "source": [
    "## audit model using pseudo \"loss\" values"
   ]
  },
  {
   "cell_type": "code",
   "execution_count": 8,
   "id": "0d37ff02-50d3-44df-998e-84d8df58e7da",
   "metadata": {},
   "outputs": [],
   "source": [
    "def run_cox_loss(target_signals: np.ndarray) -> np.ndarray:\n",
    "    \"\"\"\n",
    "    Attack a target model using the LOSS attack.\n",
    "\n",
    "    Args:\n",
    "        target_signals (np.ndarray): Softmax value of all samples in the target model.\n",
    "\n",
    "    Returns:\n",
    "        np.ndarray: MIA score for all samples (a larger score indicates higher chance of being member).\n",
    "    \"\"\"\n",
    "    mia_scores = -target_signals\n",
    "    return mia_scores\n",
    "\n",
    "def compute_cox_attack_results(mia_scores, target_memberships):\n",
    "    \"\"\"\n",
    "    Compute attack results (TPR-FPR curve, AUC, etc.) based on MIA scores and membership of samples.\n",
    "\n",
    "    Args:\n",
    "        mia_scores (np.array): MIA score computed by the attack.\n",
    "        target_memberships (np.array): Membership of samples in the training set of target model.\n",
    "\n",
    "    Returns:\n",
    "        dict: Dictionary of results, including fpr and tpr list, AUC, TPR at 1%, 0.1% and 0% FPR.\n",
    "    \"\"\"\n",
    "    fpr_list, tpr_list, _ = roc_curve(target_memberships.ravel(), mia_scores.ravel())\n",
    "    roc_auc = auc(fpr_list, tpr_list)\n",
    "    one_fpr = tpr_list[np.where(fpr_list <= 0.01)[0][-1]]\n",
    "    one_tenth_fpr = tpr_list[np.where(fpr_list <= 0.001)[0][-1]]\n",
    "    zero_fpr = tpr_list[np.where(fpr_list <= 0.0)[0][-1]]\n",
    "\n",
    "    return {\n",
    "        \"fpr\": fpr_list,\n",
    "        \"tpr\": tpr_list,\n",
    "        \"auc\": roc_auc,\n",
    "        \"one_fpr\": one_fpr,\n",
    "        \"one_tenth_fpr\": one_tenth_fpr,\n",
    "        \"zero_fpr\": zero_fpr,\n",
    "    }\n",
    "\n",
    "def get_cox_audit_results(report_dir, model_idx, mia_scores, target_memberships):\n",
    "    \"\"\"\n",
    "    Generate and save ROC plots for attacking a single model.\n",
    "\n",
    "    Args:\n",
    "        report_dir (str): Folder for saving the ROC plots.\n",
    "        model_idx (int): Index of model subjected to the attack.\n",
    "        mia_scores (np.array): MIA score computed by the attack.\n",
    "        target_memberships (np.array): Membership of samples in the training set of target model.\n",
    "        logger (logging.Logger): Logger object for the current run.\n",
    "\n",
    "    Returns:\n",
    "        dict: Dictionary of results, including fpr and tpr list, AUC, TPR at 1%, 0.1% and 0% FPR.\n",
    "    \"\"\"\n",
    "    attack_result = compute_cox_attack_results(mia_scores, target_memberships)\n",
    "    Path(report_dir).mkdir(parents=True, exist_ok=True)\n",
    "\n",
    "    print(\n",
    "        f\"Target Model {model_idx}: AUC {attack_result['auc']:.4f}, \"\n",
    "        #f\"TPR@0.1%FPR {attack_result['one_tenth_fpr']:.4f}, \"\n",
    "        #f\"TPR@0.0%FPR {attack_result['zero_fpr']:.4f}\"\n",
    "    )\n",
    "\n",
    "    plot_roc(\n",
    "        attack_result[\"fpr\"],\n",
    "        attack_result[\"tpr\"],\n",
    "        attack_result[\"auc\"],\n",
    "        f\"{report_dir}/ROC_{model_idx}.png\",\n",
    "    )\n",
    "    plot_roc_log(\n",
    "        attack_result[\"fpr\"],\n",
    "        attack_result[\"tpr\"],\n",
    "        attack_result[\"auc\"],\n",
    "        f\"{report_dir}/ROC_log_{model_idx}.png\",\n",
    "    )\n",
    "\n",
    "    np.savez(\n",
    "        f\"{report_dir}/attack_result_{model_idx}\",\n",
    "        fpr=attack_result[\"fpr\"],\n",
    "        tpr=attack_result[\"tpr\"],\n",
    "        auc=attack_result[\"auc\"],\n",
    "        one_tenth_fpr=attack_result[\"one_tenth_fpr\"],\n",
    "        zero_fpr=attack_result[\"zero_fpr\"],\n",
    "        scores=mia_scores.ravel(),\n",
    "        memberships=target_memberships.ravel(),\n",
    "    )\n",
    "    return attack_result\n",
    "\n",
    "def audit_cox_models(\n",
    "    target_model_indices,\n",
    "    all_signals,\n",
    "    all_memberships,\n",
    "    report_dir=\"test_cox\"\n",
    "):\n",
    "    \"\"\"\n",
    "    Audit target model(s) using a Membership Inference Attack algorithm.\n",
    "\n",
    "    Args:\n",
    "        report_dir (str): Folder to save attack result.\n",
    "        target_model_indices (list): List of the target model indices.\n",
    "        all_signals (np.array): Signal value of all samples in all models (target and reference models).\n",
    "        all_memberships (np.array): Membership matrix for all models.\n",
    "        num_reference_models (int): Number of reference models used for performing the attack.\n",
    "        logger (logging.Logger): Logger object for the current run.\n",
    "        configs (dict): Configs provided by the user.\n",
    "\n",
    "    Returns:\n",
    "        list: List of MIA score arrays for all audited target models.\n",
    "        list: List of membership labels for all target models.\n",
    "    \"\"\"\n",
    "    all_memberships = np.transpose(all_memberships)\n",
    "\n",
    "    mia_score_list = []\n",
    "    membership_list = []\n",
    "\n",
    "    for target_model_idx in target_model_indices:\n",
    "        print(\n",
    "            f\"Auditing the privacy risks of target model {target_model_idx}\"\n",
    "        )\n",
    "        \n",
    "        mia_scores = run_cox_loss(all_signals[:, target_model_idx])\n",
    "        target_memberships = all_memberships[:, target_model_idx]\n",
    "\n",
    "        mia_score_list.append(mia_scores.copy())\n",
    "        membership_list.append(target_memberships.copy())\n",
    "\n",
    "        _ = get_cox_audit_results(\n",
    "            report_dir, target_model_idx, mia_scores, target_memberships\n",
    "        )\n",
    "\n",
    "    return mia_score_list, membership_list"
   ]
  },
  {
   "cell_type": "markdown",
   "id": "9069acaa-1837-46a2-a5dd-84549d3715f3",
   "metadata": {},
   "source": [
    "## Test code - workflow"
   ]
  },
  {
   "cell_type": "markdown",
   "id": "890ac521-b6f6-4ee5-ba06-c4e251636ee4",
   "metadata": {},
   "source": [
    "### basics of model and dataset"
   ]
  },
  {
   "cell_type": "code",
   "execution_count": 9,
   "id": "f016c49d-af77-432b-9be9-f985a18d54c1",
   "metadata": {},
   "outputs": [],
   "source": [
    "# Load the dataset\n",
    "# The Rossi dataset is a commonly used dataset for survival analysis\n",
    "# It contains data on the recidivism of released prisoners\n",
    "data = load_rossi()\n",
    "\n",
    "# Display the first few rows of the dataset\n",
    "#print(\"First few rows of the dataset:\")\n",
    "#print(data.head())"
   ]
  },
  {
   "cell_type": "code",
   "execution_count": 10,
   "id": "8881bee8-1095-4296-b84e-cc5600466e47",
   "metadata": {},
   "outputs": [
    {
     "data": {
      "text/plain": [
       "<lifelines.CoxPHFitter: fitted with 432 total observations, 318 right-censored observations>"
      ]
     },
     "execution_count": 10,
     "metadata": {},
     "output_type": "execute_result"
    }
   ],
   "source": [
    "# Initialize the Cox Proportional Hazards model\n",
    "cox_model = CoxPHFitter()\n",
    "\n",
    "# Fit the model to the data\n",
    "# The 'week' column is the duration, and 'arrest' is the event of interest\n",
    "# We include covariates such as 'age', 'race', 'wexp', 'mar', 'paro', and 'prio'\n",
    "cox_model.fit(data, duration_col='week', event_col='arrest')\n",
    "\n",
    "# Print the summary of the fitted model\n",
    "#print(\"\\nSummary of the fitted Cox model:\")\n",
    "#cox_model.print_summary()"
   ]
  },
  {
   "cell_type": "code",
   "execution_count": 11,
   "id": "e4d8a19c-3c6d-4d7a-9794-64b5e32b5676",
   "metadata": {},
   "outputs": [
    {
     "name": "stdout",
     "output_type": "stream",
     "text": [
      "\n",
      "Predicted survival functions for the first 5 individuals:\n",
      "             0         1         2         3         4\n",
      "1.0   0.997616  0.993695  0.994083  0.999045  0.997626\n",
      "2.0   0.995230  0.987411  0.988183  0.998089  0.995250\n",
      "3.0   0.992848  0.981162  0.982314  0.997133  0.992878\n",
      "4.0   0.990468  0.974941  0.976468  0.996176  0.990507\n",
      "5.0   0.988085  0.968739  0.970639  0.995216  0.988135\n",
      "6.0   0.985699  0.962552  0.964820  0.994254  0.985758\n",
      "7.0   0.983305  0.956370  0.959004  0.993287  0.983374\n",
      "8.0   0.971402  0.926001  0.930402  0.988460  0.971520\n",
      "9.0   0.966614  0.913958  0.919043  0.986508  0.966752\n",
      "10.0  0.964223  0.907978  0.913399  0.985531  0.964370\n",
      "11.0  0.959411  0.896023  0.902109  0.983560  0.959577\n",
      "12.0  0.954529  0.883991  0.890739  0.981555  0.954715\n",
      "13.0  0.952091  0.878023  0.885094  0.980551  0.952287\n",
      "14.0  0.944785  0.860283  0.868304  0.977534  0.945010\n",
      "15.0  0.939883  0.848506  0.857146  0.975502  0.940127\n",
      "16.0  0.934978  0.836824  0.846067  0.973462  0.935241\n",
      "17.0  0.927644  0.819543  0.829662  0.970400  0.927935\n",
      "18.0  0.920239  0.802323  0.813294  0.967294  0.920559\n",
      "19.0  0.915280  0.790918  0.802441  0.965205  0.915619\n",
      "20.0  0.902910  0.762911  0.775749  0.959965  0.903296\n",
      "21.0  0.897956  0.751869  0.765209  0.957855  0.898360\n",
      "22.0  0.895478  0.746385  0.759971  0.956797  0.895892\n",
      "23.0  0.892994  0.740910  0.754738  0.955734  0.893417\n",
      "24.0  0.883110  0.719381  0.734141  0.951488  0.883570\n",
      "25.0  0.875711  0.703521  0.718943  0.948291  0.876198\n",
      "26.0  0.868213  0.687672  0.703735  0.945034  0.868726\n",
      "27.0  0.863219  0.677241  0.693713  0.942855  0.863750\n",
      "28.0  0.858226  0.666911  0.683781  0.940670  0.858775\n",
      "30.0  0.853213  0.656638  0.673893  0.938468  0.853780\n",
      "31.0  0.850700  0.651527  0.668969  0.937361  0.851276\n",
      "32.0  0.845672  0.641374  0.659183  0.935141  0.846266\n",
      "33.0  0.840638  0.631308  0.649471  0.932910  0.841249\n",
      "34.0  0.835564  0.621261  0.639767  0.930653  0.836192\n",
      "35.0  0.825421  0.601478  0.620632  0.926117  0.826084\n",
      "36.0  0.817800  0.586875  0.606483  0.922687  0.818489\n",
      "37.0  0.807650  0.567773  0.587941  0.918089  0.808372\n",
      "38.0  0.805099  0.563033  0.583333  0.916927  0.805829\n",
      "39.0  0.799999  0.553632  0.574190  0.914599  0.800746\n",
      "40.0  0.789848  0.535214  0.556247  0.909939  0.790629\n",
      "42.0  0.784733  0.526079  0.547334  0.907577  0.785530\n",
      "43.0  0.774567  0.508214  0.529874  0.902855  0.775396\n",
      "44.0  0.769460  0.499383  0.521230  0.900469  0.770304\n",
      "45.0  0.764349  0.490641  0.512664  0.898071  0.765209\n",
      "46.0  0.754116  0.473429  0.495770  0.893242  0.755007\n",
      "47.0  0.751552  0.469176  0.491589  0.892026  0.752451\n",
      "48.0  0.746427  0.460745  0.483296  0.889587  0.747341\n",
      "49.0  0.733641  0.440128  0.462975  0.883460  0.734592\n",
      "50.0  0.725969  0.428038  0.451031  0.879752  0.726942\n",
      "52.0  0.715699  0.412181  0.435335  0.874752  0.716702\n"
     ]
    },
    {
     "data": {
      "image/png": "[encoded data removed]",
      "text/plain": [
       "<Figure size 1000x600 with 1 Axes>"
      ]
     },
     "metadata": {},
     "output_type": "display_data"
    }
   ],
   "source": [
    "## optional\n",
    "\n",
    "# Make predictions\n",
    "# We can predict the survival function for each individual\n",
    "# Here, we predict the survival function for the first 5 individuals\n",
    "print(\"\\nPredicted survival functions for the first 5 individuals:\")\n",
    "survival_functions = cox_model.predict_survival_function(data.iloc[:5])\n",
    "print(survival_functions)\n",
    "\n",
    "# Plot the survival functions\n",
    "plt.figure(figsize=(10, 6))\n",
    "for i in range(survival_functions.shape[1]):\n",
    "    plt.step(survival_functions.index, survival_functions.iloc[:, i], where=\"post\", label=f\"Individual {i+1}\")\n",
    "plt.title(\"Predicted Survival Functions\")\n",
    "plt.xlabel(\"Time (weeks)\")\n",
    "plt.ylabel(\"Survival Probability\")\n",
    "plt.legend()\n",
    "plt.show()"
   ]
  },
  {
   "cell_type": "markdown",
   "id": "1a907093-0fa2-4868-9621-a3b632c489f2",
   "metadata": {},
   "source": [
    "### split dataset for training models"
   ]
  },
  {
   "cell_type": "code",
   "execution_count": 12,
   "id": "2cccb182-2854-4d68-bbc2-2e167b974bd5",
   "metadata": {},
   "outputs": [],
   "source": [
    "## Split dataset randomly\n",
    "\n",
    "num_model_pairs = 10\n",
    "data_splits, memberships = split_dataframe_for_training(data, num_model_pairs)"
   ]
  },
  {
   "cell_type": "markdown",
   "id": "0e266e99-7b96-40b4-a6d3-c2ae6901cb39",
   "metadata": {},
   "source": [
    "### train cox models and get memberships and metadata"
   ]
  },
  {
   "cell_type": "code",
   "execution_count": 13,
   "id": "e0d99447-73e6-466d-bb84-dcd5bac19126",
   "metadata": {},
   "outputs": [],
   "source": [
    "## Train cox models and get trained models and metadata\n",
    "\n",
    "models, metadata = train_cox_models(\n",
    "    data_splits=data_splits,\n",
    "    num_model_pairs=num_model_pairs,\n",
    "    log_dir=\"test_cox\"\n",
    ")\n",
    "\n",
    "# Access the first model and its metadata\n",
    "#print(metadata[0])  # Metadata for the first model\n",
    "#models[0].print_summary()  # Summary of the first model"
   ]
  },
  {
   "cell_type": "markdown",
   "id": "63a7c29e-369b-4a14-adba-fb37ae4d08cc",
   "metadata": {},
   "source": [
    "### prepare auditing dataset and memberships"
   ]
  },
  {
   "cell_type": "code",
   "execution_count": 14,
   "id": "48d23cbf-a98b-4456-94f7-035f3c45e978",
   "metadata": {},
   "outputs": [],
   "source": [
    "## prepare auditing dataset and memberships\n",
    "\n",
    "auditing_dataset, auditing_membership = sample_cox_auditing_dataset(data, memberships)"
   ]
  },
  {
   "cell_type": "markdown",
   "id": "70f742b6-69f7-4fc1-b077-704323db5368",
   "metadata": {},
   "source": [
    "### compute signals"
   ]
  },
  {
   "cell_type": "code",
   "execution_count": 15,
   "id": "504d0d6d-5e01-4cac-acee-a6cc52713420",
   "metadata": {},
   "outputs": [
    {
     "name": "stdout",
     "output_type": "stream",
     "text": [
      "Signals saved to disk.\n"
     ]
    }
   ],
   "source": [
    "## compute signals (TODO: this is only pseudo LOSS signals!)\n",
    "signals = get_cox_model_signals(models, auditing_dataset)"
   ]
  },
  {
   "cell_type": "markdown",
   "id": "6503526d-8949-4a25-bbcd-8e87dc233ba5",
   "metadata": {},
   "source": [
    "### perform model auditing"
   ]
  },
  {
   "cell_type": "code",
   "execution_count": 16,
   "id": "1883ff44-ebc0-4db0-9d11-4a459a9508c5",
   "metadata": {},
   "outputs": [
    {
     "name": "stdout",
     "output_type": "stream",
     "text": [
      "Auditing the privacy risks of target model 0\n",
      "Target Model 0: AUC 0.4814, \n",
      "Auditing the privacy risks of target model 1\n",
      "Target Model 1: AUC 0.5246, \n",
      "Auditing the privacy risks of target model 2\n",
      "Target Model 2: AUC 0.5066, \n",
      "Auditing the privacy risks of target model 3\n",
      "Target Model 3: AUC 0.5042, \n",
      "Auditing the privacy risks of target model 4\n",
      "Target Model 4: AUC 0.5065, \n",
      "Auditing the privacy risks of target model 5\n",
      "Target Model 5: AUC 0.4970, \n",
      "Auditing the privacy risks of target model 6\n",
      "Target Model 6: AUC 0.5130, \n",
      "Auditing the privacy risks of target model 7\n",
      "Target Model 7: AUC 0.4938, \n",
      "Auditing the privacy risks of target model 8\n",
      "Target Model 8: AUC 0.5110, \n",
      "Auditing the privacy risks of target model 9\n",
      "Target Model 9: AUC 0.5019, \n"
     ]
    },
    {
     "data": {
      "text/plain": [
       "<Figure size 640x480 with 0 Axes>"
      ]
     },
     "metadata": {},
     "output_type": "display_data"
    }
   ],
   "source": [
    "# Perform the privacy audit\n",
    "num_experiments = num_model_pairs\n",
    "target_model_indices = list(range(num_experiments))\n",
    "mia_score_list, membership_list = audit_cox_models(\n",
    "    target_model_indices,\n",
    "    signals,\n",
    "    auditing_membership,\n",
    ")"
   ]
  },
  {
   "cell_type": "code",
   "execution_count": null,
   "id": "712ffe3f-792f-487d-a321-2dd04e969bc3",
   "metadata": {},
   "outputs": [],
   "source": []
  }
 ],
 "metadata": {
  "kernelspec": {
   "display_name": "Python 3 (ipykernel)",
   "language": "python",
   "name": "python3"
  },
  "language_info": {
   "codemirror_mode": {
    "name": "ipython",
    "version": 3
   },
   "file_extension": ".py",
   "mimetype": "text/x-python",
   "name": "python",
   "nbconvert_exporter": "python",
   "pygments_lexer": "ipython3",
   "version": "3.12.3"
  }
 },
 "nbformat": 4,
 "nbformat_minor": 5
}
